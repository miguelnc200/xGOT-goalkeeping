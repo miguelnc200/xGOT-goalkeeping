{
 "cells": [
  {
   "cell_type": "code",
   "execution_count": 1,
   "metadata": {},
   "outputs": [
    {
     "name": "stdout",
     "output_type": "stream",
     "text": [
      "Requirement already satisfied: pandas in c:\\users\\usuario\\appdata\\local\\packages\\pythonsoftwarefoundation.python.3.11_qbz5n2kfra8p0\\localcache\\local-packages\\python311\\site-packages (2.2.2)\n",
      "Requirement already satisfied: numpy>=1.23.2 in c:\\users\\usuario\\appdata\\local\\packages\\pythonsoftwarefoundation.python.3.11_qbz5n2kfra8p0\\localcache\\local-packages\\python311\\site-packages (from pandas) (1.26.4)\n",
      "Requirement already satisfied: python-dateutil>=2.8.2 in c:\\users\\usuario\\appdata\\local\\packages\\pythonsoftwarefoundation.python.3.11_qbz5n2kfra8p0\\localcache\\local-packages\\python311\\site-packages (from pandas) (2.9.0.post0)\n",
      "Requirement already satisfied: pytz>=2020.1 in c:\\users\\usuario\\appdata\\local\\packages\\pythonsoftwarefoundation.python.3.11_qbz5n2kfra8p0\\localcache\\local-packages\\python311\\site-packages (from pandas) (2024.1)\n",
      "Requirement already satisfied: tzdata>=2022.7 in c:\\users\\usuario\\appdata\\local\\packages\\pythonsoftwarefoundation.python.3.11_qbz5n2kfra8p0\\localcache\\local-packages\\python311\\site-packages (from pandas) (2024.1)\n",
      "Requirement already satisfied: six>=1.5 in c:\\users\\usuario\\appdata\\local\\packages\\pythonsoftwarefoundation.python.3.11_qbz5n2kfra8p0\\localcache\\local-packages\\python311\\site-packages (from python-dateutil>=2.8.2->pandas) (1.16.0)\n",
      "Requirement already satisfied: scipy in c:\\users\\usuario\\appdata\\local\\packages\\pythonsoftwarefoundation.python.3.11_qbz5n2kfra8p0\\localcache\\local-packages\\python311\\site-packages (1.14.1)\n",
      "Requirement already satisfied: numpy<2.3,>=1.23.5 in c:\\users\\usuario\\appdata\\local\\packages\\pythonsoftwarefoundation.python.3.11_qbz5n2kfra8p0\\localcache\\local-packages\\python311\\site-packages (from scipy) (1.26.4)\n"
     ]
    }
   ],
   "source": [
    "# Install necessary libraries\n",
    "!pip install pandas\n",
    "!pip install scipy"
   ]
  },
  {
   "cell_type": "markdown",
   "metadata": {},
   "source": [
    "### Libraries"
   ]
  },
  {
   "cell_type": "code",
   "execution_count": 2,
   "metadata": {},
   "outputs": [],
   "source": [
    "import pandas as pd\n",
    "from scipy import stats"
   ]
  },
  {
   "cell_type": "markdown",
   "metadata": {},
   "source": [
    "# SUMMARY OF THIS DOCUMENT\n",
    "#### In this document we have loaded the data of different shots on goal, which we have divided between the women's and men's leagues. \n",
    "\n",
    "#### We have tested the null hypothesis that the mean of the Xgot and Resultant values in each of the leagues is the same. We will now test whether or not we reject this null hypothesis by using the t.test function and look at the p-value to make our decision.\n"
   ]
  },
  {
   "cell_type": "markdown",
   "metadata": {},
   "source": [
    "### LOADING DATA"
   ]
  },
  {
   "cell_type": "code",
   "execution_count": 3,
   "metadata": {},
   "outputs": [],
   "source": [
    "# Women's leagues\n",
    "xgot = pd.read_csv(\"Data/xgot.csv\", delimiter=\";\", skipinitialspace=True).drop(columns=[\"Partido\", \"Equipo tiro\", \"Equipo portera\", \"Portera\"])\n",
    "\n",
    "# Men's leagues\n",
    "xgot_m = pd.read_csv(\"Data/xgot_m.csv\", delimiter=\";\", skipinitialspace=True).drop(columns=[\"Partido\", \"Equipo tiro\", \"Equipo portero\", \"Portero\"])\n"
   ]
  },
  {
   "cell_type": "markdown",
   "metadata": {},
   "source": [
    "### We will test if the null hypothesis that the two means are equal for each zone.\n"
   ]
  },
  {
   "cell_type": "markdown",
   "metadata": {},
   "source": [
    "### High centre"
   ]
  },
  {
   "cell_type": "code",
   "execution_count": 4,
   "metadata": {},
   "outputs": [],
   "source": [
    "resultante_filtrada_1 = xgot_m[xgot_m['zona'] == \"High centre\"]\n",
    "resultante2_filtrada_1 = xgot[xgot['X'] == \"High centre\"]"
   ]
  },
  {
   "cell_type": "markdown",
   "metadata": {},
   "source": [
    "### XGot value"
   ]
  },
  {
   "cell_type": "code",
   "execution_count": 5,
   "metadata": {},
   "outputs": [
    {
     "name": "stdout",
     "output_type": "stream",
     "text": [
      "Mean Grupo 1: 0.17876106194690264\n",
      "Variance Grupo 1: 0.05671273704171933\n",
      "Mean Grupo 2: 0.23586206896551726\n",
      "Variance Grupo 2: 0.07360012099213552\n",
      "t-test result xGOT: TtestResult(statistic=-1.4150673855235019, pvalue=0.1588887247004452, df=169.0)\n"
     ]
    }
   ],
   "source": [
    "grupo1 = resultante_filtrada_1['xGOT']\n",
    "print(\"Mean Grupo 1:\", grupo1.mean())\n",
    "print(\"Variance Grupo 1:\", grupo1.var())\n",
    "\n",
    "grupo2 = resultante2_filtrada_1['xGOT']\n",
    "print(\"Mean Grupo 2:\", grupo2.mean())\n",
    "print(\"Variance Grupo 2:\", grupo2.var())\n",
    "\n",
    "t_test_result = stats.ttest_ind(grupo1, grupo2)\n",
    "print(\"t-test result xGOT:\", t_test_result)"
   ]
  },
  {
   "cell_type": "markdown",
   "metadata": {},
   "source": [
    "### Resultante value"
   ]
  },
  {
   "cell_type": "code",
   "execution_count": 6,
   "metadata": {},
   "outputs": [
    {
     "name": "stdout",
     "output_type": "stream",
     "text": [
      "Mean Grupo 1: -0.04601769911504425\n",
      "Variance Grupo 1: 0.06574560682680153\n",
      "Mean Grupo 2: -0.03931034482758622\n",
      "Variance Grupo 2: 0.11677495462794918\n",
      "t-test result Resultante: TtestResult(statistic=-0.14417192790814307, pvalue=0.8855364852829238, df=169.0)\n"
     ]
    }
   ],
   "source": [
    "grupo1 = resultante_filtrada_1['Resultante\\nde cada tiro']\n",
    "print(\"Mean Grupo 1:\", grupo1.mean())\n",
    "print(\"Variance Grupo 1:\", grupo1.var())\n",
    "\n",
    "grupo2 = resultante2_filtrada_1['Resultante\\nde cada tiro']\n",
    "print(\"Mean Grupo 2:\", grupo2.mean())\n",
    "print(\"Variance Grupo 2:\", grupo2.var())\n",
    "\n",
    "t_test_result = stats.ttest_ind(grupo1, grupo2)\n",
    "print(\"t-test result Resultante:\", t_test_result)"
   ]
  },
  {
   "cell_type": "markdown",
   "metadata": {},
   "source": [
    "### High left"
   ]
  },
  {
   "cell_type": "code",
   "execution_count": 7,
   "metadata": {},
   "outputs": [],
   "source": [
    "resultante_filtrada_1 = xgot_m[xgot_m['zona'] == \"High left\"]\n",
    "resultante2_filtrada_1 = xgot[xgot['X'] == \"High left\"]"
   ]
  },
  {
   "cell_type": "markdown",
   "metadata": {},
   "source": [
    "### XGot value"
   ]
  },
  {
   "cell_type": "code",
   "execution_count": 8,
   "metadata": {},
   "outputs": [
    {
     "name": "stdout",
     "output_type": "stream",
     "text": [
      "Mean Grupo 1: 0.4496202531645571\n",
      "Variance Grupo 1: 0.09578575137942225\n",
      "Mean Grupo 2: 0.38815789473684204\n",
      "Variance Grupo 2: 0.07634516358463728\n",
      "t-test result xGOT: TtestResult(statistic=1.0404830961713134, pvalue=0.300298089120955, df=115.0)\n"
     ]
    }
   ],
   "source": [
    "\n",
    "grupo1 = resultante_filtrada_1['xGOT']\n",
    "print(\"Mean Grupo 1:\", grupo1.mean())\n",
    "print(\"Variance Grupo 1:\", grupo1.var())\n",
    "\n",
    "grupo2 = resultante2_filtrada_1['xGOT']\n",
    "print(\"Mean Grupo 2:\", grupo2.mean())\n",
    "print(\"Variance Grupo 2:\", grupo2.var())\n",
    "\n",
    "t_test_result = stats.ttest_ind(grupo1, grupo2)\n",
    "print(\"t-test result xGOT:\", t_test_result)\n"
   ]
  },
  {
   "cell_type": "markdown",
   "metadata": {},
   "source": [
    "### Resultante value"
   ]
  },
  {
   "cell_type": "code",
   "execution_count": 9,
   "metadata": {},
   "outputs": [
    {
     "name": "stdout",
     "output_type": "stream",
     "text": [
      "Mean Grupo 1: 0.018734177215189877\n",
      "Variance Grupo 1: 0.1717188899707887\n",
      "Mean Grupo 2: 0.059210526315789484\n",
      "Variance Grupo 2: 0.130726386913229\n",
      "t-test result Resultante: TtestResult(statistic=-0.5149416489729239, pvalue=0.6075821458140774, df=115.0)\n"
     ]
    }
   ],
   "source": [
    "grupo1 = resultante_filtrada_1['Resultante\\nde cada tiro']\n",
    "print(\"Mean Grupo 1:\", grupo1.mean())\n",
    "print(\"Variance Grupo 1:\", grupo1.var())\n",
    "\n",
    "grupo2 = resultante2_filtrada_1['Resultante\\nde cada tiro']\n",
    "print(\"Mean Grupo 2:\", grupo2.mean())\n",
    "print(\"Variance Grupo 2:\", grupo2.var())\n",
    "\n",
    "t_test_result = stats.ttest_ind(grupo1, grupo2)\n",
    "print(\"t-test result Resultante:\", t_test_result)"
   ]
  },
  {
   "cell_type": "markdown",
   "metadata": {},
   "source": [
    "\n",
    "### High right"
   ]
  },
  {
   "cell_type": "code",
   "execution_count": 10,
   "metadata": {},
   "outputs": [],
   "source": [
    "resultante_filtrada_1 = xgot_m[xgot_m['zona'] == \"High right\"]\n",
    "resultante2_filtrada_1 = xgot[xgot['X'] == \"High right\"]"
   ]
  },
  {
   "cell_type": "markdown",
   "metadata": {},
   "source": [
    "### XGot value\n"
   ]
  },
  {
   "cell_type": "code",
   "execution_count": 11,
   "metadata": {},
   "outputs": [
    {
     "name": "stdout",
     "output_type": "stream",
     "text": [
      "Mean Grupo 1: 0.35608695652173916\n",
      "Variance Grupo 1: 0.05337710997442454\n",
      "Mean Grupo 2: 0.3377777777777778\n",
      "Variance Grupo 2: 0.051452063492063486\n",
      "t-test result xGOT: TtestResult(statistic=0.3878377562039516, pvalue=0.6989364604119378, df=103.0)\n"
     ]
    }
   ],
   "source": [
    "grupo1 = resultante_filtrada_1['xGOT']\n",
    "print(\"Mean Grupo 1:\", grupo1.mean())\n",
    "print(\"Variance Grupo 1:\", grupo1.var())\n",
    "\n",
    "grupo2 = resultante2_filtrada_1['xGOT']\n",
    "print(\"Mean Grupo 2:\", grupo2.mean())\n",
    "print(\"Variance Grupo 2:\", grupo2.var())\n",
    "\n",
    "t_test_result = stats.ttest_ind(grupo1, grupo2)\n",
    "print(\"t-test result xGOT:\", t_test_result)"
   ]
  },
  {
   "cell_type": "markdown",
   "metadata": {},
   "source": [
    "### Resultante value"
   ]
  },
  {
   "cell_type": "code",
   "execution_count": 12,
   "metadata": {},
   "outputs": [
    {
     "name": "stdout",
     "output_type": "stream",
     "text": [
      "Mean Grupo 1: 0.09318840579710144\n",
      "Variance Grupo 1: 0.19911027280477406\n",
      "Mean Grupo 2: -0.05944444444444444\n",
      "Variance Grupo 2: 0.14509111111111112\n",
      "t-test result Resultante: TtestResult(statistic=1.7461634976232407, pvalue=0.08376402479768906, df=103.0)\n"
     ]
    }
   ],
   "source": [
    "grupo1 = resultante_filtrada_1['Resultante\\nde cada tiro']\n",
    "print(\"Mean Grupo 1:\", grupo1.mean())\n",
    "print(\"Variance Grupo 1:\", grupo1.var())\n",
    "\n",
    "grupo2 = resultante2_filtrada_1['Resultante\\nde cada tiro']\n",
    "print(\"Mean Grupo 2:\", grupo2.mean())\n",
    "print(\"Variance Grupo 2:\", grupo2.var())\n",
    "\n",
    "t_test_result = stats.ttest_ind(grupo1, grupo2)\n",
    "print(\"t-test result Resultante:\", t_test_result)"
   ]
  },
  {
   "cell_type": "markdown",
   "metadata": {},
   "source": [
    "### Low centre"
   ]
  },
  {
   "cell_type": "code",
   "execution_count": 13,
   "metadata": {},
   "outputs": [],
   "source": [
    "resultante_filtrada_1 = xgot_m[xgot_m['zona'] == \"Low centre\"]\n",
    "resultante2_filtrada_1 = xgot[xgot['X'] == \"Low centre\"]"
   ]
  },
  {
   "cell_type": "markdown",
   "metadata": {},
   "source": [
    "### XGot value\n"
   ]
  },
  {
   "cell_type": "code",
   "execution_count": 14,
   "metadata": {},
   "outputs": [
    {
     "name": "stdout",
     "output_type": "stream",
     "text": [
      "Mean Grupo 1: 0.20617391304347824\n",
      "Variance Grupo 1: 0.07027950455005057\n",
      "Mean Grupo 2: 0.19163551401869158\n",
      "Variance Grupo 2: 0.07043815760607257\n",
      "t-test result xGOT: TtestResult(statistic=0.6299780159771355, pvalue=0.5289673066673608, df=557.0)\n"
     ]
    }
   ],
   "source": [
    "grupo1 = resultante_filtrada_1['xGOT']\n",
    "print(\"Mean Grupo 1:\", grupo1.mean())\n",
    "print(\"Variance Grupo 1:\", grupo1.var())\n",
    "\n",
    "grupo2 = resultante2_filtrada_1['xGOT']\n",
    "print(\"Mean Grupo 2:\", grupo2.mean())\n",
    "print(\"Variance Grupo 2:\", grupo2.var())\n",
    "\n",
    "t_test_result = stats.ttest_ind(grupo1, grupo2)\n",
    "print(\"t-test result xGOT:\", t_test_result)\n"
   ]
  },
  {
   "cell_type": "markdown",
   "metadata": {},
   "source": [
    "### Resultante value\n"
   ]
  },
  {
   "cell_type": "code",
   "execution_count": 15,
   "metadata": {},
   "outputs": [
    {
     "name": "stdout",
     "output_type": "stream",
     "text": [
      "Mean Grupo 1: -0.052782608695652176\n",
      "Variance Grupo 1: 0.09371897876643075\n",
      "Mean Grupo 2: -0.03841121495327104\n",
      "Variance Grupo 2: 0.09474018691588783\n",
      "t-test result Resultante: TtestResult(statistic=-0.5383846855883282, pvalue=0.5905265731258041, df=557.0)\n"
     ]
    }
   ],
   "source": [
    "grupo1 = resultante_filtrada_1['Resultante\\nde cada tiro']\n",
    "print(\"Mean Grupo 1:\", grupo1.mean())\n",
    "print(\"Variance Grupo 1:\", grupo1.var())\n",
    "\n",
    "grupo2 = resultante2_filtrada_1['Resultante\\nde cada tiro']\n",
    "print(\"Mean Grupo 2:\", grupo2.mean())\n",
    "print(\"Variance Grupo 2:\", grupo2.var())\n",
    "\n",
    "t_test_result = stats.ttest_ind(grupo1, grupo2)\n",
    "print(\"t-test result Resultante:\", t_test_result)"
   ]
  },
  {
   "cell_type": "markdown",
   "metadata": {},
   "source": [
    "### Low left"
   ]
  },
  {
   "cell_type": "code",
   "execution_count": 16,
   "metadata": {},
   "outputs": [],
   "source": [
    "resultante_filtrada_1 = xgot_m[xgot_m['zona'] == \"Low left\"]\n",
    "resultante2_filtrada_1 = xgot[xgot['X'] == \"Low left\"]"
   ]
  },
  {
   "cell_type": "markdown",
   "metadata": {},
   "source": [
    "### XGot value"
   ]
  },
  {
   "cell_type": "code",
   "execution_count": 17,
   "metadata": {},
   "outputs": [
    {
     "name": "stdout",
     "output_type": "stream",
     "text": [
      "Mean Grupo 1: 0.4357534246575343\n",
      "Variance Grupo 1: 0.09655441321847197\n",
      "Mean Grupo 2: 0.4377952755905513\n",
      "Variance Grupo 2: 0.10348875140607423\n",
      "t-test result xGOT: TtestResult(statistic=-0.06115929425875966, pvalue=0.9512616486474921, df=417.0)\n"
     ]
    }
   ],
   "source": [
    "grupo1 = resultante_filtrada_1['xGOT']\n",
    "print(\"Mean Grupo 1:\", grupo1.mean())\n",
    "print(\"Variance Grupo 1:\", grupo1.var())\n",
    "\n",
    "grupo2 = resultante2_filtrada_1['xGOT']\n",
    "print(\"Mean Grupo 2:\", grupo2.mean())\n",
    "print(\"Variance Grupo 2:\", grupo2.var())\n",
    "\n",
    "t_test_result = stats.ttest_ind(grupo1, grupo2)\n",
    "print(\"t-test result xGOT:\", t_test_result)"
   ]
  },
  {
   "cell_type": "markdown",
   "metadata": {},
   "source": [
    "### Resultante value"
   ]
  },
  {
   "cell_type": "code",
   "execution_count": 18,
   "metadata": {},
   "outputs": [
    {
     "name": "stdout",
     "output_type": "stream",
     "text": [
      "Mean Grupo 1: -0.013321917808219175\n",
      "Variance Grupo 1: 0.15575559360730593\n",
      "Mean Grupo 2: -0.02047244094488189\n",
      "Variance Grupo 2: 0.15355374328208973\n",
      "t-test result Resultante: TtestResult(statistic=0.170817276045149, pvalue=0.8644502953004011, df=417.0)\n"
     ]
    }
   ],
   "source": [
    "grupo1 = resultante_filtrada_1['Resultante\\nde cada tiro']\n",
    "print(\"Mean Grupo 1:\", grupo1.mean())\n",
    "print(\"Variance Grupo 1:\", grupo1.var())\n",
    "\n",
    "grupo2 = resultante2_filtrada_1['Resultante\\nde cada tiro']\n",
    "print(\"Mean Grupo 2:\", grupo2.mean())\n",
    "print(\"Variance Grupo 2:\", grupo2.var())\n",
    "\n",
    "t_test_result = stats.ttest_ind(grupo1, grupo2)\n",
    "print(\"t-test result Resultante:\", t_test_result)"
   ]
  },
  {
   "cell_type": "markdown",
   "metadata": {},
   "source": [
    "### Low right"
   ]
  },
  {
   "cell_type": "code",
   "execution_count": 19,
   "metadata": {},
   "outputs": [],
   "source": [
    "resultante_filtrada_1 = xgot_m[xgot_m['zona'] == \"Low right\"]\n",
    "resultante2_filtrada_1 = xgot[xgot['X'] == \"Low right\"]"
   ]
  },
  {
   "cell_type": "markdown",
   "metadata": {},
   "source": [
    "### XGot value"
   ]
  },
  {
   "cell_type": "code",
   "execution_count": 20,
   "metadata": {},
   "outputs": [
    {
     "name": "stdout",
     "output_type": "stream",
     "text": [
      "Mean Grupo 1: 0.39771653543307084\n",
      "Variance Grupo 1: 0.08459476518004419\n",
      "Mean Grupo 2: 0.42166666666666675\n",
      "Variance Grupo 2: 0.09633559999999998\n",
      "t-test result xGOT: TtestResult(statistic=-0.7389282310462161, pvalue=0.4604091545835559, df=378.0)\n"
     ]
    }
   ],
   "source": [
    "grupo1 = resultante_filtrada_1['xGOT']\n",
    "print(\"Mean Grupo 1:\", grupo1.mean())\n",
    "print(\"Variance Grupo 1:\", grupo1.var())\n",
    "\n",
    "grupo2 = resultante2_filtrada_1['xGOT']\n",
    "print(\"Mean Grupo 2:\", grupo2.mean())\n",
    "print(\"Variance Grupo 2:\", grupo2.var())\n",
    "\n",
    "t_test_result = stats.ttest_ind(grupo1, grupo2)\n",
    "print(\"t-test result xGOT:\", t_test_result)"
   ]
  },
  {
   "cell_type": "markdown",
   "metadata": {},
   "source": [
    "### Resultante value"
   ]
  },
  {
   "cell_type": "code",
   "execution_count": 21,
   "metadata": {},
   "outputs": [
    {
     "name": "stdout",
     "output_type": "stream",
     "text": [
      "Mean Grupo 1: 0.003858267716535433\n",
      "Variance Grupo 1: 0.16275106283651306\n",
      "Mean Grupo 2: 0.03126984126984128\n",
      "Variance Grupo 2: 0.16677757460317458\n",
      "t-test result Resultante: TtestResult(statistic=-0.6210306856830715, pvalue=0.5349537285592356, df=378.0)\n"
     ]
    }
   ],
   "source": [
    "grupo1 = resultante_filtrada_1['Resultante\\nde cada tiro']\n",
    "print(\"Mean Grupo 1:\", grupo1.mean())\n",
    "print(\"Variance Grupo 1:\", grupo1.var())\n",
    "\n",
    "grupo2 = resultante2_filtrada_1['Resultante\\nde cada tiro']\n",
    "print(\"Mean Grupo 2:\", grupo2.mean())\n",
    "print(\"Variance Grupo 2:\", grupo2.var())\n",
    "\n",
    "t_test_result = stats.ttest_ind(grupo1, grupo2)\n",
    "print(\"t-test result Resultante:\", t_test_result)"
   ]
  }
 ],
 "metadata": {
  "kernelspec": {
   "display_name": "Python 3",
   "language": "python",
   "name": "python3"
  },
  "language_info": {
   "codemirror_mode": {
    "name": "ipython",
    "version": 3
   },
   "file_extension": ".py",
   "mimetype": "text/x-python",
   "name": "python",
   "nbconvert_exporter": "python",
   "pygments_lexer": "ipython3",
   "version": "3.11.9"
  }
 },
 "nbformat": 4,
 "nbformat_minor": 2
}
