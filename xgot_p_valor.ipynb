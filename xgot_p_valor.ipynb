{
 "cells": [
  {
   "cell_type": "code",
   "execution_count": 1,
   "metadata": {},
   "outputs": [
    {
     "name": "stdout",
     "output_type": "stream",
     "text": [
      "Requirement already satisfied: pandas in c:\\users\\usuario\\appdata\\local\\packages\\pythonsoftwarefoundation.python.3.11_qbz5n2kfra8p0\\localcache\\local-packages\\python311\\site-packages (2.2.2)\n",
      "Requirement already satisfied: scipy in c:\\users\\usuario\\appdata\\local\\packages\\pythonsoftwarefoundation.python.3.11_qbz5n2kfra8p0\\localcache\\local-packages\\python311\\site-packages (1.14.1)\n",
      "Requirement already satisfied: numpy>=1.23.2 in c:\\users\\usuario\\appdata\\local\\packages\\pythonsoftwarefoundation.python.3.11_qbz5n2kfra8p0\\localcache\\local-packages\\python311\\site-packages (from pandas) (1.26.4)\n",
      "Requirement already satisfied: python-dateutil>=2.8.2 in c:\\users\\usuario\\appdata\\local\\packages\\pythonsoftwarefoundation.python.3.11_qbz5n2kfra8p0\\localcache\\local-packages\\python311\\site-packages (from pandas) (2.9.0.post0)\n",
      "Requirement already satisfied: pytz>=2020.1 in c:\\users\\usuario\\appdata\\local\\packages\\pythonsoftwarefoundation.python.3.11_qbz5n2kfra8p0\\localcache\\local-packages\\python311\\site-packages (from pandas) (2024.1)\n",
      "Requirement already satisfied: tzdata>=2022.7 in c:\\users\\usuario\\appdata\\local\\packages\\pythonsoftwarefoundation.python.3.11_qbz5n2kfra8p0\\localcache\\local-packages\\python311\\site-packages (from pandas) (2024.1)\n",
      "Requirement already satisfied: six>=1.5 in c:\\users\\usuario\\appdata\\local\\packages\\pythonsoftwarefoundation.python.3.11_qbz5n2kfra8p0\\localcache\\local-packages\\python311\\site-packages (from python-dateutil>=2.8.2->pandas) (1.16.0)\n"
     ]
    }
   ],
   "source": [
    "!pip install pandas scipy"
   ]
  },
  {
   "cell_type": "markdown",
   "metadata": {},
   "source": [
    "### LIBRARIES"
   ]
  },
  {
   "cell_type": "code",
   "execution_count": 2,
   "metadata": {},
   "outputs": [],
   "source": [
    "import pandas as pd\n",
    "from scipy import stats"
   ]
  },
  {
   "cell_type": "markdown",
   "metadata": {},
   "source": [
    "# SUMMARY OF THIS DOCUMENT\n",
    "#### In this document, we have loaded the data of different shots on goal, which we have divided between the women's and men's leagues. We have tested the null hypothesis that the mean of the XGot values in each of the leagues is the same depending if the shot was a goal or not. We will now test whether or not we reject this null hypothesis by using the t-test and look at the p-value to make our decision."
   ]
  },
  {
   "cell_type": "markdown",
   "metadata": {},
   "source": [
    "### LOADING DATA"
   ]
  },
  {
   "cell_type": "code",
   "execution_count": 3,
   "metadata": {},
   "outputs": [],
   "source": [
    "# Women's leagues\n",
    "xgot = pd.read_csv(\"Data/xgot.csv\", sep=\";\", usecols=lambda col: col not in ['Partido', 'Equipo tiro', 'Equipo portera', 'Portera'])\n",
    "\n",
    "# Men's leagues\n",
    "xgot_m = pd.read_csv(\"Data/xgot_m.csv\", sep=\";\", usecols=lambda col: col not in ['Partido', 'Equipo tiro', 'Equipo portero', 'Portero'])\n"
   ]
  },
  {
   "cell_type": "markdown",
   "metadata": {},
   "source": [
    "### FUNCTION TO CALCULATE MEAN, VARIANCE, AND PERFORM T-TEST"
   ]
  },
  {
   "cell_type": "code",
   "execution_count": 4,
   "metadata": {},
   "outputs": [],
   "source": [
    "def perform_t_test(data_men, data_women, zona, goal_value):\n",
    "    grupo1 = data_men[data_men['zona'] == zona].query(\"`Gol (0/1)` == @goal_value\")['xGOT']\n",
    "    grupo2 = data_women[data_women['X'] == zona].query(\"`Gol (0/1)` == @goal_value\")['xGOT']\n",
    "    \n",
    "    print(f\"Zone: {zona}, Goal Value: {goal_value}\")\n",
    "    print(\"Mean of group 1 (men):\", grupo1.mean())\n",
    "    print(\"Variance of group 1 (men):\", grupo1.var())\n",
    "    print(\"Mean of group 2 (women):\", grupo2.mean())\n",
    "    print(\"Variance of group 2 (women):\", grupo2.var())\n",
    "    \n",
    "    t_test_result = stats.ttest_ind(grupo1, grupo2, nan_policy='omit')\n",
    "    print(\"T-test result:\", t_test_result, \"\\n\")"
   ]
  },
  {
   "cell_type": "markdown",
   "metadata": {},
   "source": [
    "### CALCULATING MEANS, VARIANCES AND PERFORMING T-TEST FOR DIFFERENT ZONES\n"
   ]
  },
  {
   "cell_type": "markdown",
   "metadata": {},
   "source": [
    "### High centre (Goal = 0)"
   ]
  },
  {
   "cell_type": "code",
   "execution_count": 5,
   "metadata": {},
   "outputs": [
    {
     "name": "stdout",
     "output_type": "stream",
     "text": [
      "Zone: High centre, Goal Value: 0\n",
      "Mean of group 1 (men): 0.11755102040816327\n",
      "Variance of group 1 (men): 0.02042486850410267\n",
      "Mean of group 2 (women): 0.15478260869565216\n",
      "Variance of group 2 (women): 0.037949951690821264\n",
      "T-test result: TtestResult(statistic=-1.2924521283728092, pvalue=0.19829979474916795, df=142.0) \n",
      "\n"
     ]
    }
   ],
   "source": [
    "perform_t_test(xgot_m, xgot, \"High centre\", 0)"
   ]
  },
  {
   "cell_type": "markdown",
   "metadata": {},
   "source": [
    "### High centre (Goal = 1)\n"
   ]
  },
  {
   "cell_type": "code",
   "execution_count": 6,
   "metadata": {},
   "outputs": [
    {
     "name": "stdout",
     "output_type": "stream",
     "text": [
      "Zone: High centre, Goal Value: 1\n",
      "Mean of group 1 (men): 0.5786666666666667\n",
      "Variance of group 1 (men): 0.11461238095238094\n",
      "Mean of group 2 (women): 0.5466666666666666\n",
      "Variance of group 2 (women): 0.09326060606060604\n",
      "T-test result: TtestResult(statistic=0.2547183032475615, pvalue=0.8010243305479151, df=25.0) \n",
      "\n"
     ]
    }
   ],
   "source": [
    "perform_t_test(xgot_m, xgot, \"High centre\", 1)"
   ]
  },
  {
   "cell_type": "markdown",
   "metadata": {},
   "source": [
    "### High left (Goal = 0)"
   ]
  },
  {
   "cell_type": "code",
   "execution_count": 7,
   "metadata": {},
   "outputs": [
    {
     "name": "stdout",
     "output_type": "stream",
     "text": [
      "Zone: High left, Goal Value: 0\n",
      "Mean of group 1 (men): 0.28595238095238096\n",
      "Variance of group 1 (men): 0.03544419279907085\n",
      "Mean of group 2 (women): 0.2123809523809524\n",
      "Variance of group 2 (women): 0.026619047619047608\n",
      "T-test result: TtestResult(statistic=1.5257838842504168, pvalue=0.13223223184439087, df=61.0) \n",
      "\n"
     ]
    }
   ],
   "source": [
    "perform_t_test(xgot_m, xgot, \"High left\", 0)"
   ]
  },
  {
   "cell_type": "markdown",
   "metadata": {},
   "source": [
    "### High left (Goal = 1)\n"
   ]
  },
  {
   "cell_type": "code",
   "execution_count": 8,
   "metadata": {},
   "outputs": [
    {
     "name": "stdout",
     "output_type": "stream",
     "text": [
      "Zone: High left, Goal Value: 1\n",
      "Mean of group 1 (men): 0.6354054054054054\n",
      "Variance of group 1 (men): 0.10044219219219218\n",
      "Mean of group 2 (women): 0.6052941176470588\n",
      "Variance of group 2 (women): 0.05262647058823529\n",
      "T-test result: TtestResult(statistic=0.3509879568237149, pvalue=0.7270154498216397, df=52.0) \n",
      "\n"
     ]
    }
   ],
   "source": [
    "perform_t_test(xgot_m, xgot, \"High left\", 1)"
   ]
  },
  {
   "cell_type": "markdown",
   "metadata": {},
   "source": [
    "### High right (Goal = 0)"
   ]
  },
  {
   "cell_type": "code",
   "execution_count": 9,
   "metadata": {},
   "outputs": [
    {
     "name": "stdout",
     "output_type": "stream",
     "text": [
      "Zone: High right, Goal Value: 0\n",
      "Mean of group 1 (men): 0.2618421052631579\n",
      "Variance of group 1 (men): 0.036047866287339955\n",
      "Mean of group 2 (women): 0.2619230769230769\n",
      "Variance of group 2 (women): 0.021496153846153845\n",
      "T-test result: TtestResult(statistic=-0.001831302890947036, pvalue=0.998544712214336, df=62.0) \n",
      "\n"
     ]
    }
   ],
   "source": [
    "perform_t_test(xgot_m, xgot, \"High right\", 0)"
   ]
  },
  {
   "cell_type": "markdown",
   "metadata": {},
   "source": [
    "### High right (Goal = 1)"
   ]
  },
  {
   "cell_type": "code",
   "execution_count": 10,
   "metadata": {},
   "outputs": [
    {
     "name": "stdout",
     "output_type": "stream",
     "text": [
      "Zone: High right, Goal Value: 1\n",
      "Mean of group 1 (men): 0.4716129032258064\n",
      "Variance of group 1 (men): 0.05148731182795699\n",
      "Mean of group 2 (women): 0.5349999999999999\n",
      "Variance of group 2 (women): 0.08053888888888888\n",
      "T-test result: TtestResult(statistic=-0.7225367172232847, pvalue=0.47427527566301886, df=39.0) \n",
      "\n"
     ]
    }
   ],
   "source": [
    "perform_t_test(xgot_m, xgot, \"High right\", 1)"
   ]
  },
  {
   "cell_type": "markdown",
   "metadata": {},
   "source": [
    "### Low centre (Goal = 0)"
   ]
  },
  {
   "cell_type": "code",
   "execution_count": 11,
   "metadata": {},
   "outputs": [
    {
     "name": "stdout",
     "output_type": "stream",
     "text": [
      "Zone: Low centre, Goal Value: 0\n",
      "Mean of group 1 (men): 0.14315068493150687\n",
      "Variance of group 1 (men): 0.039699317422209675\n",
      "Mean of group 2 (women): 0.12861878453038675\n",
      "Variance of group 2 (women): 0.0364741927562922\n",
      "T-test result: TtestResult(statistic=0.783212493240241, pvalue=0.43389597396215085, df=471.0) \n",
      "\n"
     ]
    }
   ],
   "source": [
    "perform_t_test(xgot_m, xgot, \"Low centre\", 0)"
   ]
  },
  {
   "cell_type": "markdown",
   "metadata": {},
   "source": [
    "### Low centre (Goal = 1)"
   ]
  },
  {
   "cell_type": "code",
   "execution_count": 12,
   "metadata": {},
   "outputs": [
    {
     "name": "stdout",
     "output_type": "stream",
     "text": [
      "Zone: Low centre, Goal Value: 1\n",
      "Mean of group 1 (men): 0.5533962264150943\n",
      "Variance of group 1 (men): 0.0975767053701016\n",
      "Mean of group 2 (women): 0.5372727272727273\n",
      "Variance of group 2 (women): 0.11802670454545454\n",
      "T-test result: TtestResult(statistic=0.22400220681467567, pvalue=0.8232995118639064, df=84.0) \n",
      "\n"
     ]
    }
   ],
   "source": [
    "perform_t_test(xgot_m, xgot, \"Low centre\", 1)"
   ]
  },
  {
   "cell_type": "markdown",
   "metadata": {},
   "source": [
    "### Low left (Goal = 0)"
   ]
  },
  {
   "cell_type": "code",
   "execution_count": 13,
   "metadata": {},
   "outputs": [
    {
     "name": "stdout",
     "output_type": "stream",
     "text": [
      "Zone: Low left, Goal Value: 0\n",
      "Mean of group 1 (men): 0.27375\n",
      "Variance of group 1 (men): 0.04866429640718563\n",
      "Mean of group 2 (women): 0.2717567567567567\n",
      "Variance of group 2 (women): 0.05548043317289893\n",
      "T-test result: TtestResult(statistic=0.06342470026566342, pvalue=0.9494811110112585, df=240.0) \n",
      "\n"
     ]
    }
   ],
   "source": [
    "perform_t_test(xgot_m, xgot, \"Low left\", 0)"
   ]
  },
  {
   "cell_type": "markdown",
   "metadata": {},
   "source": [
    "### Low left (Goal = 1)"
   ]
  },
  {
   "cell_type": "code",
   "execution_count": 14,
   "metadata": {},
   "outputs": [
    {
     "name": "stdout",
     "output_type": "stream",
     "text": [
      "Zone: Low left, Goal Value: 1\n",
      "Mean of group 1 (men): 0.655241935483871\n",
      "Variance of group 1 (men): 0.07794709546289011\n",
      "Mean of group 2 (women): 0.6696226415094342\n",
      "Variance of group 2 (women): 0.07886523947750362\n",
      "T-test result: TtestResult(statistic=-0.3133167995287543, pvalue=0.7544131011688744, df=175.0) \n",
      "\n"
     ]
    }
   ],
   "source": [
    "perform_t_test(xgot_m, xgot, \"Low left\", 1)"
   ]
  },
  {
   "cell_type": "markdown",
   "metadata": {},
   "source": [
    "### Low right (Goal = 0)"
   ]
  },
  {
   "cell_type": "code",
   "execution_count": 15,
   "metadata": {},
   "outputs": [
    {
     "name": "stdout",
     "output_type": "stream",
     "text": [
      "Zone: Low right, Goal Value: 0\n",
      "Mean of group 1 (men): 0.2619736842105263\n",
      "Variance of group 1 (men): 0.0398397873823632\n",
      "Mean of group 2 (women): 0.25840579710144923\n",
      "Variance of group 2 (women): 0.04732242114236999\n",
      "T-test result: TtestResult(statistic=0.11970015676131941, pvalue=0.9048304113918137, df=219.0) \n",
      "\n"
     ]
    }
   ],
   "source": [
    "perform_t_test(xgot_m, xgot, \"Low right\", 0)"
   ]
  },
  {
   "cell_type": "markdown",
   "metadata": {},
   "source": [
    "### Low right (Goal = 1)"
   ]
  },
  {
   "cell_type": "code",
   "execution_count": 16,
   "metadata": {},
   "outputs": [
    {
     "name": "stdout",
     "output_type": "stream",
     "text": [
      "Zone: Low right, Goal Value: 1\n",
      "Mean of group 1 (men): 0.6\n",
      "Variance of group 1 (men): 0.0832891089108911\n",
      "Mean of group 2 (women): 0.6192982456140351\n",
      "Variance of group 2 (women): 0.08497449874686717\n",
      "T-test result: TtestResult(statistic=-0.4029034558846663, pvalue=0.6875673541447294, df=157.0) \n",
      "\n"
     ]
    }
   ],
   "source": [
    "perform_t_test(xgot_m, xgot, \"Low right\", 1)"
   ]
  }
 ],
 "metadata": {
  "kernelspec": {
   "display_name": "Python 3",
   "language": "python",
   "name": "python3"
  },
  "language_info": {
   "codemirror_mode": {
    "name": "ipython",
    "version": 3
   },
   "file_extension": ".py",
   "mimetype": "text/x-python",
   "name": "python",
   "nbconvert_exporter": "python",
   "pygments_lexer": "ipython3",
   "version": "3.11.9"
  }
 },
 "nbformat": 4,
 "nbformat_minor": 2
}
