{
 "cells": [
  {
   "cell_type": "code",
   "execution_count": 1,
   "metadata": {},
   "outputs": [
    {
     "name": "stdout",
     "output_type": "stream",
     "text": [
      "Requirement already satisfied: pandas in c:\\users\\usuario\\appdata\\local\\packages\\pythonsoftwarefoundation.python.3.11_qbz5n2kfra8p0\\localcache\\local-packages\\python311\\site-packages (2.2.2)\n",
      "Requirement already satisfied: matplotlib in c:\\users\\usuario\\appdata\\local\\packages\\pythonsoftwarefoundation.python.3.11_qbz5n2kfra8p0\\localcache\\local-packages\\python311\\site-packages (3.9.2)\n",
      "Requirement already satisfied: seaborn in c:\\users\\usuario\\appdata\\local\\packages\\pythonsoftwarefoundation.python.3.11_qbz5n2kfra8p0\\localcache\\local-packages\\python311\\site-packages (0.13.2)\n",
      "Requirement already satisfied: numpy>=1.23.2 in c:\\users\\usuario\\appdata\\local\\packages\\pythonsoftwarefoundation.python.3.11_qbz5n2kfra8p0\\localcache\\local-packages\\python311\\site-packages (from pandas) (1.26.4)\n",
      "Requirement already satisfied: python-dateutil>=2.8.2 in c:\\users\\usuario\\appdata\\local\\packages\\pythonsoftwarefoundation.python.3.11_qbz5n2kfra8p0\\localcache\\local-packages\\python311\\site-packages (from pandas) (2.9.0.post0)\n",
      "Requirement already satisfied: pytz>=2020.1 in c:\\users\\usuario\\appdata\\local\\packages\\pythonsoftwarefoundation.python.3.11_qbz5n2kfra8p0\\localcache\\local-packages\\python311\\site-packages (from pandas) (2024.1)\n",
      "Requirement already satisfied: tzdata>=2022.7 in c:\\users\\usuario\\appdata\\local\\packages\\pythonsoftwarefoundation.python.3.11_qbz5n2kfra8p0\\localcache\\local-packages\\python311\\site-packages (from pandas) (2024.1)\n",
      "Requirement already satisfied: contourpy>=1.0.1 in c:\\users\\usuario\\appdata\\local\\packages\\pythonsoftwarefoundation.python.3.11_qbz5n2kfra8p0\\localcache\\local-packages\\python311\\site-packages (from matplotlib) (1.2.1)\n",
      "Requirement already satisfied: cycler>=0.10 in c:\\users\\usuario\\appdata\\local\\packages\\pythonsoftwarefoundation.python.3.11_qbz5n2kfra8p0\\localcache\\local-packages\\python311\\site-packages (from matplotlib) (0.12.1)\n",
      "Requirement already satisfied: fonttools>=4.22.0 in c:\\users\\usuario\\appdata\\local\\packages\\pythonsoftwarefoundation.python.3.11_qbz5n2kfra8p0\\localcache\\local-packages\\python311\\site-packages (from matplotlib) (4.53.1)\n",
      "Requirement already satisfied: kiwisolver>=1.3.1 in c:\\users\\usuario\\appdata\\local\\packages\\pythonsoftwarefoundation.python.3.11_qbz5n2kfra8p0\\localcache\\local-packages\\python311\\site-packages (from matplotlib) (1.4.5)\n",
      "Requirement already satisfied: packaging>=20.0 in c:\\users\\usuario\\appdata\\local\\packages\\pythonsoftwarefoundation.python.3.11_qbz5n2kfra8p0\\localcache\\local-packages\\python311\\site-packages (from matplotlib) (24.1)\n",
      "Requirement already satisfied: pillow>=8 in c:\\users\\usuario\\appdata\\local\\packages\\pythonsoftwarefoundation.python.3.11_qbz5n2kfra8p0\\localcache\\local-packages\\python311\\site-packages (from matplotlib) (10.4.0)\n",
      "Requirement already satisfied: pyparsing>=2.3.1 in c:\\users\\usuario\\appdata\\local\\packages\\pythonsoftwarefoundation.python.3.11_qbz5n2kfra8p0\\localcache\\local-packages\\python311\\site-packages (from matplotlib) (3.1.2)\n",
      "Requirement already satisfied: six>=1.5 in c:\\users\\usuario\\appdata\\local\\packages\\pythonsoftwarefoundation.python.3.11_qbz5n2kfra8p0\\localcache\\local-packages\\python311\\site-packages (from python-dateutil>=2.8.2->pandas) (1.16.0)\n"
     ]
    }
   ],
   "source": [
    "# Install necessary libraries\n",
    "!pip install pandas matplotlib seaborn"
   ]
  },
  {
   "cell_type": "markdown",
   "metadata": {},
   "source": [
    "### LIBRARIES"
   ]
  },
  {
   "cell_type": "code",
   "execution_count": 4,
   "metadata": {},
   "outputs": [],
   "source": [
    "import pandas as pd\n",
    "import matplotlib.pyplot as plt\n",
    "import seaborn as sns\n",
    "from scipy import stats"
   ]
  },
  {
   "cell_type": "markdown",
   "metadata": {},
   "source": [
    "# SUMMARY OF THIS DOCUMENT\n",
    "#### In this document, we have loaded the data of different shots on goal, which we have divided between the women's and men's leagues.  In this paper, we seek to test how much the goalkeeper's height variable influences the value of xGot. To do so, we are going to perform the Pearson test and the Spearman test."
   ]
  },
  {
   "cell_type": "markdown",
   "metadata": {},
   "source": [
    "### LOADING DATA"
   ]
  },
  {
   "cell_type": "code",
   "execution_count": 6,
   "metadata": {},
   "outputs": [],
   "source": [
    "# Women's leagues\n",
    "xgot = pd.read_csv(\"Data/xgot.csv\", delimiter=\";\", usecols=[\"Arriba/abajo\", \"X\", \"xGOT\", \"Gol (0/1)\", \"Altura\", \"Resultante\\nde cada tiro\"])\n",
    "xgot = xgot[[\"Arriba/abajo\", \"X\", \"xGOT\", \"Gol (0/1)\", \"Altura\", \"Resultante\\nde cada tiro\"]]\n",
    "\n",
    "# Men's leagues\n",
    "xgot_m = pd.read_csv(\"Data/xgot_m.csv\", delimiter=\";\", usecols=[\"Arriba/abajo\", \"zona\", \"xGOT\", \"Gol (0/1)\", \"Altura\", \"Resultante\\nde cada tiro\"])\n",
    "xgot_m = xgot_m[[\"Arriba/abajo\", \"zona\", \"xGOT\", \"Gol (0/1)\", \"Altura\", \"Resultante\\nde cada tiro\"]]\n"
   ]
  },
  {
   "cell_type": "markdown",
   "metadata": {},
   "source": [
    "# GENERAL TESTS (Pearson and Spearman)\n",
    "### Checking in a general way the value for each of the tests."
   ]
  },
  {
   "cell_type": "code",
   "execution_count": 7,
   "metadata": {},
   "outputs": [
    {
     "name": "stdout",
     "output_type": "stream",
     "text": [
      "Pearson (women): 0.02069486923605981, Spearman (women): 0.023786705883772043\n",
      "Pearson (men): 0.03766921728073218, Spearman (men): 0.06102745155802024\n"
     ]
    }
   ],
   "source": [
    "# Women's league\n",
    "pearson_women = xgot['xGOT'].corr(xgot['Altura'])\n",
    "spearman_women = xgot['xGOT'].corr(xgot['Altura'], method='spearman')\n",
    "\n",
    "# Men's league\n",
    "pearson_men = xgot_m['xGOT'].corr(xgot_m['Altura'])\n",
    "spearman_men = xgot_m['xGOT'].corr(xgot_m['Altura'], method='spearman')\n",
    "\n",
    "print(f\"Pearson (women): {pearson_women}, Spearman (women): {spearman_women}\")\n",
    "print(f\"Pearson (men): {pearson_men}, Spearman (men): {spearman_men}\")\n"
   ]
  },
  {
   "cell_type": "markdown",
   "metadata": {},
   "source": [
    "### PEARSON AND SPEARMAN TEST FOR EACH ZONE"
   ]
  },
  {
   "cell_type": "markdown",
   "metadata": {},
   "source": [
    "### High centre"
   ]
  },
  {
   "cell_type": "code",
   "execution_count": 8,
   "metadata": {},
   "outputs": [
    {
     "name": "stdout",
     "output_type": "stream",
     "text": [
      "High Centre Pearson (men): -0.02658198585055975, Spearman (men): 0.05537729365449394\n",
      "High Centre Pearson (women): 0.28309642447793265, Spearman (women): 0.25000076715269487\n"
     ]
    }
   ],
   "source": [
    "resultante_filtrada_1 = xgot_m[xgot_m['zona'] == \"High centre\"]\n",
    "resultante2_filtrada_1 = xgot[xgot['X'] == \"High centre\"]\n",
    "\n",
    "pearson_high_centre_men = resultante_filtrada_1['xGOT'].corr(resultante_filtrada_1['Altura'])\n",
    "spearman_high_centre_men = resultante_filtrada_1['xGOT'].corr(resultante_filtrada_1['Altura'], method='spearman')\n",
    "pearson_high_centre_women = resultante2_filtrada_1['xGOT'].corr(resultante2_filtrada_1['Altura'])\n",
    "spearman_high_centre_women = resultante2_filtrada_1['xGOT'].corr(resultante2_filtrada_1['Altura'], method='spearman')\n",
    "\n",
    "print(f\"High Centre Pearson (men): {pearson_high_centre_men}, Spearman (men): {spearman_high_centre_men}\")\n",
    "print(f\"High Centre Pearson (women): {pearson_high_centre_women}, Spearman (women): {spearman_high_centre_women}\")\n"
   ]
  },
  {
   "cell_type": "markdown",
   "metadata": {},
   "source": [
    "### High left"
   ]
  },
  {
   "cell_type": "code",
   "execution_count": 9,
   "metadata": {},
   "outputs": [
    {
     "name": "stdout",
     "output_type": "stream",
     "text": [
      "High Left Pearson (men): 0.13023377098905028, Spearman (men): 0.17362825527583012\n",
      "High Left Pearson (women): -0.2470112787134169, Spearman (women): -0.1688285983209536\n"
     ]
    }
   ],
   "source": [
    "resultante_filtrada_1 = xgot_m[xgot_m['zona'] == \"High left\"]\n",
    "resultante2_filtrada_1 = xgot[xgot['X'] == \"High left\"]\n",
    "\n",
    "pearson_high_left_men = resultante_filtrada_1['xGOT'].corr(resultante_filtrada_1['Altura'])\n",
    "spearman_high_left_men = resultante_filtrada_1['xGOT'].corr(resultante_filtrada_1['Altura'], method='spearman')\n",
    "pearson_high_left_women = resultante2_filtrada_1['xGOT'].corr(resultante2_filtrada_1['Altura'])\n",
    "spearman_high_left_women = resultante2_filtrada_1['xGOT'].corr(resultante2_filtrada_1['Altura'], method='spearman')\n",
    "\n",
    "print(f\"High Left Pearson (men): {pearson_high_left_men}, Spearman (men): {spearman_high_left_men}\")\n",
    "print(f\"High Left Pearson (women): {pearson_high_left_women}, Spearman (women): {spearman_high_left_women}\")\n"
   ]
  },
  {
   "cell_type": "markdown",
   "metadata": {},
   "source": [
    "### High right"
   ]
  },
  {
   "cell_type": "code",
   "execution_count": 10,
   "metadata": {},
   "outputs": [
    {
     "name": "stdout",
     "output_type": "stream",
     "text": [
      "High Right Pearson (men): 0.16566293721524916, Spearman (men): 0.1155719602449546\n",
      "High Right Pearson (women): -0.1658519585126925, Spearman (women): -0.06437957167994164\n"
     ]
    }
   ],
   "source": [
    "resultante_filtrada_1 = xgot_m[xgot_m['zona'] == \"High right\"]\n",
    "resultante2_filtrada_1 = xgot[xgot['X'] == \"High right\"]\n",
    "\n",
    "pearson_high_right_men = resultante_filtrada_1['xGOT'].corr(resultante_filtrada_1['Altura'])\n",
    "spearman_high_right_men = resultante_filtrada_1['xGOT'].corr(resultante_filtrada_1['Altura'], method='spearman')\n",
    "pearson_high_right_women = resultante2_filtrada_1['xGOT'].corr(resultante2_filtrada_1['Altura'])\n",
    "spearman_high_right_women = resultante2_filtrada_1['xGOT'].corr(resultante2_filtrada_1['Altura'], method='spearman')\n",
    "\n",
    "print(f\"High Right Pearson (men): {pearson_high_right_men}, Spearman (men): {spearman_high_right_men}\")\n",
    "print(f\"High Right Pearson (women): {pearson_high_right_women}, Spearman (women): {spearman_high_right_women}\")\n"
   ]
  },
  {
   "cell_type": "markdown",
   "metadata": {},
   "source": [
    "### Low centre"
   ]
  },
  {
   "cell_type": "code",
   "execution_count": 11,
   "metadata": {},
   "outputs": [
    {
     "name": "stdout",
     "output_type": "stream",
     "text": [
      "Low Centre Pearson (men): 0.06518274658381393, Spearman (men): 0.03778038452307337\n",
      "Low Centre Pearson (women): 0.04682638527164579, Spearman (women): -0.0006146908057101451\n"
     ]
    }
   ],
   "source": [
    "resultante_filtrada_1 = xgot_m[xgot_m['zona'] == \"Low centre\"]\n",
    "resultante2_filtrada_1 = xgot[xgot['X'] == \"Low centre\"]\n",
    "\n",
    "pearson_low_centre_men = resultante_filtrada_1['xGOT'].corr(resultante_filtrada_1['Altura'])\n",
    "spearman_low_centre_men = resultante_filtrada_1['xGOT'].corr(resultante_filtrada_1['Altura'], method='spearman')\n",
    "pearson_low_centre_women = resultante2_filtrada_1['xGOT'].corr(resultante2_filtrada_1['Altura'])\n",
    "spearman_low_centre_women = resultante2_filtrada_1['xGOT'].corr(resultante2_filtrada_1['Altura'], method='spearman')\n",
    "\n",
    "print(f\"Low Centre Pearson (men): {pearson_low_centre_men}, Spearman (men): {spearman_low_centre_men}\")\n",
    "print(f\"Low Centre Pearson (women): {pearson_low_centre_women}, Spearman (women): {spearman_low_centre_women}\")\n"
   ]
  },
  {
   "cell_type": "markdown",
   "metadata": {},
   "source": [
    "### Low left"
   ]
  },
  {
   "cell_type": "code",
   "execution_count": 12,
   "metadata": {},
   "outputs": [
    {
     "name": "stdout",
     "output_type": "stream",
     "text": [
      "Low Left Pearson (men): 0.0029396441481030736, Spearman (men): -0.016559623602087674\n",
      "Low Left Pearson (women): 0.026227538865748915, Spearman (women): 0.01894354985129023\n"
     ]
    }
   ],
   "source": [
    "resultante_filtrada_1 = xgot_m[xgot_m['zona'] == \"Low left\"]\n",
    "resultante2_filtrada_1 = xgot[xgot['X'] == \"Low left\"]\n",
    "\n",
    "pearson_low_left_men = resultante_filtrada_1['xGOT'].corr(resultante_filtrada_1['Altura'])\n",
    "spearman_low_left_men = resultante_filtrada_1['xGOT'].corr(resultante_filtrada_1['Altura'], method='spearman')\n",
    "pearson_low_left_women = resultante2_filtrada_1['xGOT'].corr(resultante2_filtrada_1['Altura'])\n",
    "spearman_low_left_women = resultante2_filtrada_1['xGOT'].corr(resultante2_filtrada_1['Altura'], method='spearman')\n",
    "\n",
    "print(f\"Low Left Pearson (men): {pearson_low_left_men}, Spearman (men): {spearman_low_left_men}\")\n",
    "print(f\"Low Left Pearson (women): {pearson_low_left_women}, Spearman (women): {spearman_low_left_women}\")\n"
   ]
  },
  {
   "cell_type": "markdown",
   "metadata": {},
   "source": [
    "### Low right"
   ]
  },
  {
   "cell_type": "code",
   "execution_count": 13,
   "metadata": {},
   "outputs": [
    {
     "name": "stdout",
     "output_type": "stream",
     "text": [
      "Low Right Pearson (men): 0.13787257400216832, Spearman (men): 0.09626494529590258\n",
      "Low Right Pearson (women): -0.006552526320874321, Spearman (women): 0.0231467622354955\n"
     ]
    }
   ],
   "source": [
    "resultante_filtrada_1 = xgot_m[xgot_m['zona'] == \"Low right\"]\n",
    "resultante2_filtrada_1 = xgot[xgot['X'] == \"Low right\"]\n",
    "\n",
    "pearson_low_right_men = resultante_filtrada_1['xGOT'].corr(resultante_filtrada_1['Altura'])\n",
    "spearman_low_right_men = resultante_filtrada_1['xGOT'].corr(resultante_filtrada_1['Altura'], method='spearman')\n",
    "pearson_low_right_women = resultante2_filtrada_1['xGOT'].corr(resultante2_filtrada_1['Altura'])\n",
    "spearman_low_right_women = resultante2_filtrada_1['xGOT'].corr(resultante2_filtrada_1['Altura'], method='spearman')\n",
    "\n",
    "print(f\"Low Right Pearson (men): {pearson_low_right_men}, Spearman (men): {spearman_low_right_men}\")\n",
    "print(f\"Low Right Pearson (women): {pearson_low_right_women}, Spearman (women): {spearman_low_right_women}\")\n"
   ]
  }
 ],
 "metadata": {
  "kernelspec": {
   "display_name": "Python 3",
   "language": "python",
   "name": "python3"
  },
  "language_info": {
   "codemirror_mode": {
    "name": "ipython",
    "version": 3
   },
   "file_extension": ".py",
   "mimetype": "text/x-python",
   "name": "python",
   "nbconvert_exporter": "python",
   "pygments_lexer": "ipython3",
   "version": "3.11.9"
  }
 },
 "nbformat": 4,
 "nbformat_minor": 2
}
