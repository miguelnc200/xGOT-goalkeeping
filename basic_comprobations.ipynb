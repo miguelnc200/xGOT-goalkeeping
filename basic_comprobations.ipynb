{
 "cells": [
  {
   "cell_type": "code",
   "execution_count": 11,
   "metadata": {},
   "outputs": [
    {
     "name": "stdout",
     "output_type": "stream",
     "text": [
      "Requirement already satisfied: pandas in c:\\users\\usuario\\appdata\\local\\packages\\pythonsoftwarefoundation.python.3.11_qbz5n2kfra8p0\\localcache\\local-packages\\python311\\site-packages (2.2.2)\n",
      "Requirement already satisfied: matplotlib in c:\\users\\usuario\\appdata\\local\\packages\\pythonsoftwarefoundation.python.3.11_qbz5n2kfra8p0\\localcache\\local-packages\\python311\\site-packages (3.9.2)\n",
      "Requirement already satisfied: seaborn in c:\\users\\usuario\\appdata\\local\\packages\\pythonsoftwarefoundation.python.3.11_qbz5n2kfra8p0\\localcache\\local-packages\\python311\\site-packages (0.13.2)\n",
      "Requirement already satisfied: statsmodels in c:\\users\\usuario\\appdata\\local\\packages\\pythonsoftwarefoundation.python.3.11_qbz5n2kfra8p0\\localcache\\local-packages\\python311\\site-packages (0.14.4)\n",
      "Requirement already satisfied: numpy>=1.23.2 in c:\\users\\usuario\\appdata\\local\\packages\\pythonsoftwarefoundation.python.3.11_qbz5n2kfra8p0\\localcache\\local-packages\\python311\\site-packages (from pandas) (1.26.4)\n",
      "Requirement already satisfied: python-dateutil>=2.8.2 in c:\\users\\usuario\\appdata\\local\\packages\\pythonsoftwarefoundation.python.3.11_qbz5n2kfra8p0\\localcache\\local-packages\\python311\\site-packages (from pandas) (2.9.0.post0)\n",
      "Requirement already satisfied: pytz>=2020.1 in c:\\users\\usuario\\appdata\\local\\packages\\pythonsoftwarefoundation.python.3.11_qbz5n2kfra8p0\\localcache\\local-packages\\python311\\site-packages (from pandas) (2024.1)\n",
      "Requirement already satisfied: tzdata>=2022.7 in c:\\users\\usuario\\appdata\\local\\packages\\pythonsoftwarefoundation.python.3.11_qbz5n2kfra8p0\\localcache\\local-packages\\python311\\site-packages (from pandas) (2024.1)\n",
      "Requirement already satisfied: contourpy>=1.0.1 in c:\\users\\usuario\\appdata\\local\\packages\\pythonsoftwarefoundation.python.3.11_qbz5n2kfra8p0\\localcache\\local-packages\\python311\\site-packages (from matplotlib) (1.2.1)\n",
      "Requirement already satisfied: cycler>=0.10 in c:\\users\\usuario\\appdata\\local\\packages\\pythonsoftwarefoundation.python.3.11_qbz5n2kfra8p0\\localcache\\local-packages\\python311\\site-packages (from matplotlib) (0.12.1)\n",
      "Requirement already satisfied: fonttools>=4.22.0 in c:\\users\\usuario\\appdata\\local\\packages\\pythonsoftwarefoundation.python.3.11_qbz5n2kfra8p0\\localcache\\local-packages\\python311\\site-packages (from matplotlib) (4.53.1)\n",
      "Requirement already satisfied: kiwisolver>=1.3.1 in c:\\users\\usuario\\appdata\\local\\packages\\pythonsoftwarefoundation.python.3.11_qbz5n2kfra8p0\\localcache\\local-packages\\python311\\site-packages (from matplotlib) (1.4.5)\n",
      "Requirement already satisfied: packaging>=20.0 in c:\\users\\usuario\\appdata\\local\\packages\\pythonsoftwarefoundation.python.3.11_qbz5n2kfra8p0\\localcache\\local-packages\\python311\\site-packages (from matplotlib) (24.1)\n",
      "Requirement already satisfied: pillow>=8 in c:\\users\\usuario\\appdata\\local\\packages\\pythonsoftwarefoundation.python.3.11_qbz5n2kfra8p0\\localcache\\local-packages\\python311\\site-packages (from matplotlib) (10.4.0)\n",
      "Requirement already satisfied: pyparsing>=2.3.1 in c:\\users\\usuario\\appdata\\local\\packages\\pythonsoftwarefoundation.python.3.11_qbz5n2kfra8p0\\localcache\\local-packages\\python311\\site-packages (from matplotlib) (3.1.2)\n",
      "Requirement already satisfied: scipy!=1.9.2,>=1.8 in c:\\users\\usuario\\appdata\\local\\packages\\pythonsoftwarefoundation.python.3.11_qbz5n2kfra8p0\\localcache\\local-packages\\python311\\site-packages (from statsmodels) (1.14.1)\n",
      "Requirement already satisfied: patsy>=0.5.6 in c:\\users\\usuario\\appdata\\local\\packages\\pythonsoftwarefoundation.python.3.11_qbz5n2kfra8p0\\localcache\\local-packages\\python311\\site-packages (from statsmodels) (0.5.6)\n",
      "Requirement already satisfied: six in c:\\users\\usuario\\appdata\\local\\packages\\pythonsoftwarefoundation.python.3.11_qbz5n2kfra8p0\\localcache\\local-packages\\python311\\site-packages (from patsy>=0.5.6->statsmodels) (1.16.0)\n"
     ]
    }
   ],
   "source": [
    "# Instalación de librerías\n",
    "!pip install pandas matplotlib seaborn statsmodels\n"
   ]
  },
  {
   "cell_type": "markdown",
   "metadata": {},
   "source": [
    "### Cargar las bibliotecas necesarias"
   ]
  },
  {
   "cell_type": "code",
   "execution_count": 12,
   "metadata": {},
   "outputs": [],
   "source": [
    "import pandas as pd\n",
    "import matplotlib.pyplot as plt\n",
    "import seaborn as sns\n",
    "from scipy import stats"
   ]
  },
  {
   "cell_type": "markdown",
   "metadata": {},
   "source": [
    "## SUMMARY OF THIS DOCUMENT\n",
    "#### In this document we have loaded the data of different shots on goal, which we have divided between the women's and men's leagues. We have made a number of basic checks to begin to draw conclusions."
   ]
  },
  {
   "cell_type": "markdown",
   "metadata": {},
   "source": [
    "### LOADING DATA"
   ]
  },
  {
   "cell_type": "code",
   "execution_count": 15,
   "metadata": {},
   "outputs": [],
   "source": [
    "# Women's leagues\n",
    "xgot = pd.read_csv(\"Data/xgot.csv\", delimiter=\";\", usecols=[\"Arriba/abajo\", \"X\", \"xGOT\", \"Gol (0/1)\", \"Altura\", \"Resultante\\nde cada tiro\"])\n",
    "mi_dataframe = xgot[[\"Arriba/abajo\", \"X\", \"xGOT\", \"Gol (0/1)\", \"Altura\", \"Resultante\\nde cada tiro\"]]\n",
    "\n",
    "# Men's leagues\n",
    "xgot_m = pd.read_csv(\"Data/xgot_m.csv\", delimiter=\";\", usecols=[\"Arriba/abajo\", \"zona\", \"xGOT\", \"Gol (0/1)\", \"Altura\", \"Resultante\\nde cada tiro\"])\n",
    "mi_dataframe2 = xgot_m[[\"Arriba/abajo\", \"zona\", \"xGOT\", \"Gol (0/1)\", \"Altura\", \"Resultante\\nde cada tiro\"]]\n"
   ]
  },
  {
   "cell_type": "markdown",
   "metadata": {},
   "source": [
    "### First of all, we have made a table to calculate the average of xGOT based on shot height."
   ]
  },
  {
   "cell_type": "code",
   "execution_count": 16,
   "metadata": {},
   "outputs": [
    {
     "name": "stdout",
     "output_type": "stream",
     "text": [
      "  Arriba/abajo  Gol (0/1)  media_xGOT  varianza_XGOT\n",
      "0        Abajo          0    0.186006       0.045842\n",
      "1        Abajo          1    0.619653       0.090915\n",
      "2       Arriba          0    0.207742       0.038222\n",
      "3       Arriba          1    0.565526       0.070604\n",
      "4      Arribaa          0    0.210000            NaN\n",
      "  Arriba/abajo  Gol (0/1)  media_xGOT  varianza_XGOT\n",
      "0        Abajo          0    0.208658       0.046042\n",
      "1        Abajo          1    0.616857       0.084599\n",
      "2       Arriba          0    0.187709       0.032965\n",
      "3       Arriba          1    0.559390       0.087389\n"
     ]
    }
   ],
   "source": [
    "# Women's leagues\n",
    "media_xGOT_por_altura = mi_dataframe.groupby([\"Arriba/abajo\", \"Gol (0/1)\"]).agg(\n",
    "    media_xGOT=('xGOT', 'mean'), varianza_XGOT=('xGOT', 'var')).reset_index()\n",
    "print(media_xGOT_por_altura)\n",
    "\n",
    "# Men's leagues\n",
    "media_xGOT_por_altura2 = mi_dataframe2.groupby([\"Arriba/abajo\", \"Gol (0/1)\"]).agg(\n",
    "    media_xGOT=('xGOT', 'mean'), varianza_XGOT=('xGOT', 'var')).reset_index()\n",
    "print(media_xGOT_por_altura2)"
   ]
  },
  {
   "cell_type": "markdown",
   "metadata": {},
   "source": [
    "### Secondly, we calculate the mean and variance of xGOT for each league zone."
   ]
  },
  {
   "cell_type": "code",
   "execution_count": 17,
   "metadata": {},
   "outputs": [
    {
     "name": "stdout",
     "output_type": "stream",
     "text": [
      "              X  Gol (0/1)  media_xGOT  varianza_XGOT\n",
      "0   High centre          0    0.154783       0.037950\n",
      "1   High centre          1    0.546667       0.093261\n",
      "2     High left          0    0.212381       0.026619\n",
      "3     High left          1    0.605294       0.052626\n",
      "4    High right          0    0.261923       0.021496\n",
      "5    High right          1    0.535000       0.080539\n",
      "6    Low centre          0    0.128619       0.036474\n",
      "7    Low centre          1    0.537273       0.118027\n",
      "8      Low left          0    0.271757       0.055480\n",
      "9      Low left          1    0.669623       0.078865\n",
      "10    Low right          0    0.258406       0.047322\n",
      "11    Low right          1    0.619298       0.084974\n"
     ]
    },
    {
     "name": "stderr",
     "output_type": "stream",
     "text": [
      "C:\\Users\\Usuario\\AppData\\Local\\Temp\\ipykernel_2164\\2307515212.py:12: FutureWarning: \n",
      "\n",
      "Passing `palette` without assigning `hue` is deprecated and will be removed in v0.14.0. Assign the `x` variable to `hue` and set `legend=False` for the same effect.\n",
      "\n",
      "  sns.barplot(x=\"X\", y=\"media_xGOT\", data=datos_filtrados, palette=\"viridis\")\n"
     ]
    },
    {
     "data": {
      "image/png": "[encoded data removed]",
      "text/plain": [
       "<Figure size 1000x600 with 1 Axes>"
      ]
     },
     "metadata": {},
     "output_type": "display_data"
    },
    {
     "name": "stdout",
     "output_type": "stream",
     "text": [
      "           zona  Gol (0/1)  media_xGOT  varianza_XGOT\n",
      "0   High centre          0    0.117551       0.020425\n",
      "1   High centre          1    0.578667       0.114612\n",
      "2     High left          0    0.285952       0.035444\n",
      "3     High left          1    0.635405       0.100442\n",
      "4    High right          0    0.261842       0.036048\n",
      "5    High right          1    0.471613       0.051487\n",
      "6    Low centre          0    0.143151       0.039699\n",
      "7    Low centre          1    0.553396       0.097577\n",
      "8      Low left          0    0.273750       0.048664\n",
      "9      Low left          1    0.655242       0.077947\n",
      "10    Low right          0    0.261974       0.039840\n",
      "11    Low right          1    0.600000       0.083289\n"
     ]
    },
    {
     "name": "stderr",
     "output_type": "stream",
     "text": [
      "C:\\Users\\Usuario\\AppData\\Local\\Temp\\ipykernel_2164\\2307515212.py:29: FutureWarning: \n",
      "\n",
      "Passing `palette` without assigning `hue` is deprecated and will be removed in v0.14.0. Assign the `x` variable to `hue` and set `legend=False` for the same effect.\n",
      "\n",
      "  sns.barplot(x=\"zona\", y=\"media_xGOT\", data=datos_filtrados2, palette=\"magma\")\n"
     ]
    },
    {
     "data": {
      "image/png": "[encoded data removed]",
      "text/plain": [
       "<Figure size 1000x600 with 1 Axes>"
      ]
     },
     "metadata": {},
     "output_type": "display_data"
    }
   ],
   "source": [
    "# Women's leagues\n",
    "media_xGOT_por_zona = mi_dataframe.groupby([\"X\", \"Gol (0/1)\"]).agg(\n",
    "    media_xGOT=('xGOT', 'mean'), varianza_XGOT=('xGOT', 'var')).reset_index()\n",
    "print(media_xGOT_por_zona)\n",
    "\n",
    "# Women's leagues Histogram\n",
    "# Filter the value 'Gol (0/1)' == 1\n",
    "datos_filtrados = media_xGOT_por_zona[media_xGOT_por_zona[\"Gol (0/1)\"] == 1]\n",
    "\n",
    "# Histogram generation\n",
    "plt.figure(figsize=(10,6))\n",
    "sns.barplot(x=\"X\", y=\"media_xGOT\", data=datos_filtrados, palette=\"viridis\")\n",
    "plt.title(\"Media de xGOT por zona (Gol = 1)\")\n",
    "plt.xlabel(\"Zona\")\n",
    "plt.ylabel(\"Media de xGOT\")\n",
    "plt.show()\n",
    "\n",
    "# Men's leagues\n",
    "media_xGOT_por_zona2 = mi_dataframe2.groupby([\"zona\", \"Gol (0/1)\"]).agg(\n",
    "    media_xGOT=('xGOT', 'mean'), varianza_XGOT=('xGOT', 'var')).reset_index()\n",
    "print(media_xGOT_por_zona2)\n",
    "\n",
    "# Men's leagues Histogram\n",
    "# Filter the value 'Gol (0/1)' == 1\n",
    "datos_filtrados2 = media_xGOT_por_zona2[media_xGOT_por_zona2[\"Gol (0/1)\"] == 1]\n",
    "\n",
    "# Histogram generation\n",
    "plt.figure(figsize=(10,6))\n",
    "sns.barplot(x=\"zona\", y=\"media_xGOT\", data=datos_filtrados2, palette=\"magma\")\n",
    "plt.title(\"Media de xGOT por zona (Gol = 1)\")\n",
    "plt.xlabel(\"Zona\")\n",
    "plt.ylabel(\"Media de xGOT\")\n",
    "plt.show()"
   ]
  },
  {
   "cell_type": "markdown",
   "metadata": {},
   "source": [
    "### Null hypothesis of the same medie testing with t.test function"
   ]
  },
  {
   "cell_type": "code",
   "execution_count": 18,
   "metadata": {},
   "outputs": [
    {
     "name": "stdout",
     "output_type": "stream",
     "text": [
      "TtestResult(statistic=-0.7752198560582397, pvalue=0.4383145539491613, df=1749.0)\n",
      "LeveneResult(statistic=0.034663728433877834, pvalue=0.8523236481549168)\n"
     ]
    }
   ],
   "source": [
    "# Women's Leagues\n",
    "grupo1 = mi_dataframe[\"xGOT\"]\n",
    "\n",
    "# Men's Leagues\n",
    "grupo2 = mi_dataframe2[\"xGOT\"]\n",
    "\n",
    "# T-test for means\n",
    "t_test_result = stats.ttest_ind(grupo1.dropna(), grupo2.dropna())\n",
    "print(t_test_result)\n",
    "\n",
    "# F-test for variances\n",
    "f_test_result = stats.levene(grupo1.dropna(), grupo2.dropna())\n",
    "print(f_test_result)"
   ]
  },
  {
   "cell_type": "markdown",
   "metadata": {},
   "source": [
    "### Similar checks for the \"Resultante\" variable"
   ]
  },
  {
   "cell_type": "code",
   "execution_count": 19,
   "metadata": {},
   "outputs": [
    {
     "name": "stdout",
     "output_type": "stream",
     "text": [
      "-0.015108514190317194\n",
      "-0.01598090277777778\n"
     ]
    }
   ],
   "source": [
    "# Women's leagues\n",
    "media_resultante = mi_dataframe[\"Resultante\\nde cada tiro\"].mean()\n",
    "print(media_resultante)\n",
    "\n",
    "# Men's leagues\n",
    "media_resultante2 = mi_dataframe2[\"Resultante\\nde cada tiro\"].mean()\n",
    "print(media_resultante2)"
   ]
  },
  {
   "cell_type": "markdown",
   "metadata": {},
   "source": [
    "### Average of the variable \"Resultante\" by height"
   ]
  },
  {
   "cell_type": "code",
   "execution_count": 20,
   "metadata": {},
   "outputs": [
    {
     "name": "stdout",
     "output_type": "stream",
     "text": [
      "  Arriba/abajo  Gol (0/1)  media_Resultante  varianza_Resultante\n",
      "0        Abajo          0         -0.186687             0.045820\n",
      "1        Abajo          1          0.380903             0.091494\n",
      "2       Arriba          0         -0.213978             0.040359\n",
      "3       Arriba          1          0.434474             0.070604\n",
      "4      Arribaa          0         -0.210000                  NaN\n",
      "  Arriba/abajo  Gol (0/1)  media_Resultante  varianza_Resultante\n",
      "0        Abajo          0         -0.209853             0.046121\n",
      "1        Abajo          1          0.383143             0.084599\n",
      "2       Arriba          0         -0.187709             0.032965\n",
      "3       Arriba          1          0.440610             0.087389\n"
     ]
    }
   ],
   "source": [
    "# Women's leagues\n",
    "media_resultante_por_altura = mi_dataframe.groupby([\"Arriba/abajo\", \"Gol (0/1)\"]).agg(\n",
    "    media_Resultante=('Resultante\\nde cada tiro', 'mean'), varianza_Resultante=('Resultante\\nde cada tiro', 'var')).reset_index()\n",
    "print(media_resultante_por_altura)\n",
    "\n",
    "# Men's leagues\n",
    "media_resultante_por_altura2 = mi_dataframe2.groupby([\"Arriba/abajo\", \"Gol (0/1)\"]).agg(\n",
    "    media_Resultante=('Resultante\\nde cada tiro', 'mean'), varianza_Resultante=('Resultante\\nde cada tiro', 'var')).reset_index()\n",
    "print(media_resultante_por_altura2)"
   ]
  },
  {
   "cell_type": "markdown",
   "metadata": {},
   "source": [
    "### Average of the variable \"Resultante\" by zone"
   ]
  },
  {
   "cell_type": "code",
   "execution_count": 21,
   "metadata": {},
   "outputs": [
    {
     "name": "stdout",
     "output_type": "stream",
     "text": [
      "              X  Gol (0/1)  media_Resultante  varianza_Resultante\n",
      "0   High centre          0         -0.167826             0.043515\n",
      "1   High centre          1          0.453333             0.093261\n",
      "2     High left          0         -0.212381             0.026619\n",
      "3     High left          1          0.394706             0.052626\n",
      "4    High right          0         -0.261154             0.021803\n",
      "5    High right          1          0.465000             0.080539\n",
      "6    Low centre          0         -0.129834             0.036574\n",
      "7    Low centre          1          0.463030             0.118309\n",
      "8      Low left          0         -0.271757             0.055480\n",
      "9      Low left          1          0.330377             0.078865\n",
      "10    Low right          0         -0.258406             0.047322\n",
      "11    Low right          1          0.381930             0.086259\n",
      "           zona  Gol (0/1)  media_Resultante  varianza_Resultante\n",
      "0   High centre          0         -0.117551             0.020425\n",
      "1   High centre          1          0.421333             0.114612\n",
      "2     High left          0         -0.285952             0.035444\n",
      "3     High left          1          0.364595             0.100442\n",
      "4    High right          0         -0.261842             0.036048\n",
      "5    High right          1          0.528387             0.051487\n",
      "6    Low centre          0         -0.143425             0.039687\n",
      "7    Low centre          1          0.446604             0.097577\n",
      "8      Low left          0         -0.277619             0.048519\n",
      "9      Low left          1          0.344758             0.077947\n",
      "10    Low right          0         -0.261974             0.039840\n",
      "11    Low right          1          0.400000             0.083289\n"
     ]
    }
   ],
   "source": [
    "# Women's leagues\n",
    "media_resultante_por_zona = mi_dataframe.groupby([\"X\", \"Gol (0/1)\"]).agg(\n",
    "    media_Resultante=('Resultante\\nde cada tiro', 'mean'), varianza_Resultante=('Resultante\\nde cada tiro', 'var')).reset_index()\n",
    "print(media_resultante_por_zona)\n",
    "\n",
    "# Men's leagues\n",
    "media_resultante_por_zona2 = mi_dataframe2.groupby([\"zona\", \"Gol (0/1)\"]).agg(\n",
    "    media_Resultante=('Resultante\\nde cada tiro', 'mean'), varianza_Resultante=('Resultante\\nde cada tiro', 'var')).reset_index()\n",
    "print(media_resultante_por_zona2)"
   ]
  },
  {
   "cell_type": "markdown",
   "metadata": {},
   "source": [
    "### Null hypothesis of the same medie testing with t.test function"
   ]
  },
  {
   "cell_type": "code",
   "execution_count": 22,
   "metadata": {},
   "outputs": [
    {
     "name": "stdout",
     "output_type": "stream",
     "text": [
      "TtestResult(statistic=0.04752235171940565, pvalue=0.9621023419450729, df=1749.0)\n",
      "LeveneResult(statistic=0.5674579968207115, pvalue=0.45137219929222316)\n"
     ]
    }
   ],
   "source": [
    "# Women's leagues\n",
    "grupo1_r = mi_dataframe[\"Resultante\\nde cada tiro\"]\n",
    "\n",
    "# Men's leagues\n",
    "grupo2_r = mi_dataframe2[\"Resultante\\nde cada tiro\"]\n",
    "\n",
    "# T-test for means of \"Resultante\"\n",
    "t_test_result_r = stats.ttest_ind(grupo1_r.dropna(), grupo2_r.dropna())\n",
    "print(t_test_result_r)\n",
    "\n",
    "# F-test for variances of \"Resultante\"\n",
    "f_test_result_r = stats.levene(grupo1_r.dropna(), grupo2_r.dropna())\n",
    "print(f_test_result_r)\n"
   ]
  }
 ],
 "metadata": {
  "kernelspec": {
   "display_name": "Python 3",
   "language": "python",
   "name": "python3"
  },
  "language_info": {
   "codemirror_mode": {
    "name": "ipython",
    "version": 3
   },
   "file_extension": ".py",
   "mimetype": "text/x-python",
   "name": "python",
   "nbconvert_exporter": "python",
   "pygments_lexer": "ipython3",
   "version": "3.11.9"
  }
 },
 "nbformat": 4,
 "nbformat_minor": 2
}
